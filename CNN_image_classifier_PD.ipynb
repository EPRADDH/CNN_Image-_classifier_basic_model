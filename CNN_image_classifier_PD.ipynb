{
  "nbformat": 4,
  "nbformat_minor": 0,
  "metadata": {
    "colab": {
      "name": "CNN_image classifier_PD.ipynb",
      "provenance": [],
      "collapsed_sections": [],
      "toc_visible": true
    },
    "kernelspec": {
      "name": "python3",
      "display_name": "Python 3"
    },
    "accelerator": "TPU"
  },
  "cells": [
    {
      "cell_type": "code",
      "metadata": {
        "id": "m4SSCpLhbtqa",
        "colab_type": "code",
        "outputId": "a740f1bc-bad3-412f-a59e-80f5d79e8b20",
        "colab": {
          "base_uri": "https://localhost:8080/",
          "height": 34
        }
      },
      "source": [
        "import keras"
      ],
      "execution_count": 2,
      "outputs": [
        {
          "output_type": "stream",
          "text": [
            "Using TensorFlow backend.\n"
          ],
          "name": "stderr"
        }
      ]
    },
    {
      "cell_type": "code",
      "metadata": {
        "id": "KqNvEkjjfaDB",
        "colab_type": "code",
        "colab": {}
      },
      "source": [
        "# Importing the Keras libraries and packages\n",
        "from keras.models import Sequential\n",
        "from keras.layers import Convolution2D\n",
        "from keras.layers import MaxPooling2D\n",
        "from keras.layers import Flatten\n",
        "from keras.layers import Dense"
      ],
      "execution_count": 0,
      "outputs": []
    },
    {
      "cell_type": "code",
      "metadata": {
        "id": "en2zN5L7glm0",
        "colab_type": "code",
        "colab": {}
      },
      "source": [
        "# Initialising the CNN classifier\n",
        "classifier = Sequential()"
      ],
      "execution_count": 0,
      "outputs": []
    },
    {
      "cell_type": "code",
      "metadata": {
        "id": "okAbzTWOgvd1",
        "colab_type": "code",
        "outputId": "a4cbca3e-7bcd-4b13-bd1c-6a1fbe3b4426",
        "colab": {
          "base_uri": "https://localhost:8080/",
          "height": 71
        }
      },
      "source": [
        "#Step 1 - Convolution\n",
        "classifier.add(Convolution2D(32,3,3, input_shape = (64,64,3) , activation = 'relu'))"
      ],
      "execution_count": 6,
      "outputs": [
        {
          "output_type": "stream",
          "text": [
            "/usr/local/lib/python3.6/dist-packages/ipykernel_launcher.py:1: UserWarning: Update your `Conv2D` call to the Keras 2 API: `Conv2D(32, (3, 3), input_shape=(64, 64, 3..., activation=\"relu\")`\n",
            "  \"\"\"Entry point for launching an IPython kernel.\n"
          ],
          "name": "stderr"
        }
      ]
    },
    {
      "cell_type": "code",
      "metadata": {
        "id": "2EMmwleag67T",
        "colab_type": "code",
        "colab": {}
      },
      "source": [
        "#Step 2 - Pooling\n",
        "classifier.add(MaxPooling2D(pool_size = (2,2)))\n"
      ],
      "execution_count": 0,
      "outputs": []
    },
    {
      "cell_type": "code",
      "metadata": {
        "id": "iu7EBMyOhDCl",
        "colab_type": "code",
        "colab": {}
      },
      "source": [
        "#Step 3 - Flattening\n",
        "classifier.add(Flatten())"
      ],
      "execution_count": 0,
      "outputs": []
    },
    {
      "cell_type": "code",
      "metadata": {
        "id": "Hl-_n3M1hKsR",
        "colab_type": "code",
        "colab": {}
      },
      "source": [
        "# Step 4 - Full connection\n",
        "classifier.add(Dense(units = 128, activation = 'relu'))\n",
        "classifier.add(Dense(units = 1, activation = 'sigmoid')) #becouse out is binary using sigmoid"
      ],
      "execution_count": 0,
      "outputs": []
    },
    {
      "cell_type": "code",
      "metadata": {
        "id": "TpCtFp33hN8O",
        "colab_type": "code",
        "colab": {}
      },
      "source": [
        "#compling the CNN\n",
        "classifier.compile(optimizer = 'adam', loss = 'binary_crossentropy', metrics = ['accuracy'])"
      ],
      "execution_count": 0,
      "outputs": []
    },
    {
      "cell_type": "markdown",
      "metadata": {
        "id": "IUDKXamWhWPB",
        "colab_type": "text"
      },
      "source": [
        "Image preprocessing\n",
        "Part 2 - Fitting the CNN to the images"
      ]
    },
    {
      "cell_type": "code",
      "metadata": {
        "id": "rRniZrJshTJE",
        "colab_type": "code",
        "colab": {}
      },
      "source": [
        "from keras.preprocessing.image import ImageDataGenerator"
      ],
      "execution_count": 0,
      "outputs": []
    },
    {
      "cell_type": "code",
      "metadata": {
        "id": "HLYBVlmVhiD6",
        "colab_type": "code",
        "colab": {}
      },
      "source": [
        "train_datagen = ImageDataGenerator(rescale = 1./255, shear_range = 0.2, zoom_range = 0.2, horizontal_flip = True)"
      ],
      "execution_count": 0,
      "outputs": []
    },
    {
      "cell_type": "code",
      "metadata": {
        "id": "CBE5DUl5hl9K",
        "colab_type": "code",
        "colab": {}
      },
      "source": [
        "test_datagen = ImageDataGenerator(rescale = 1./255)"
      ],
      "execution_count": 0,
      "outputs": []
    },
    {
      "cell_type": "markdown",
      "metadata": {
        "id": "JczDHW2Vhxac",
        "colab_type": "text"
      },
      "source": [
        "TrainingSet/TestSet import "
      ]
    },
    {
      "cell_type": "code",
      "metadata": {
        "id": "kbP4CTkzhpdB",
        "colab_type": "code",
        "colab": {}
      },
      "source": [
        "training_Set = '/content/drive/My Drive/Data_Science_Drive/Convolutional_Neural_Networks/dataset/training_set'\n",
        "test_Set = '/content/drive/My Drive/Data_Science_Drive/Convolutional_Neural_Networks/dataset/test_set'"
      ],
      "execution_count": 0,
      "outputs": []
    },
    {
      "cell_type": "markdown",
      "metadata": {
        "id": "9ffVca8Vh6Dz",
        "colab_type": "text"
      },
      "source": [
        " fit trainingSet/testSet into DataGenrator for Augmentation"
      ]
    },
    {
      "cell_type": "code",
      "metadata": {
        "id": "kbxmtvg0idPV",
        "colab_type": "code",
        "outputId": "cb7b97f9-a435-4358-8cf6-5a38c5bff23b",
        "colab": {
          "base_uri": "https://localhost:8080/",
          "height": 34
        }
      },
      "source": [
        "training_set = train_datagen.flow_from_directory('/content/drive/My Drive/Data_Science_Drive/Convolutional_Neural_Networks/dataset/training_set',\n",
        "                                                 target_size = (64, 64),\n",
        "                                                 batch_size = 32,\n",
        "                                                 class_mode = 'binary')"
      ],
      "execution_count": 18,
      "outputs": [
        {
          "output_type": "stream",
          "text": [
            "Found 7999 images belonging to 2 classes.\n"
          ],
          "name": "stdout"
        }
      ]
    },
    {
      "cell_type": "code",
      "metadata": {
        "id": "Q-JkmrE7igIS",
        "colab_type": "code",
        "outputId": "3b0d660d-3dab-4fe1-c265-3a9d5b8c8b25",
        "colab": {
          "base_uri": "https://localhost:8080/",
          "height": 34
        }
      },
      "source": [
        "test_set = test_datagen.flow_from_directory('/content/drive/My Drive/Data_Science_Drive/Convolutional_Neural_Networks/dataset/test_set',\n",
        "                                            target_size = (64, 64),\n",
        "                                            batch_size = 32,\n",
        "                                            class_mode = 'binary')"
      ],
      "execution_count": 19,
      "outputs": [
        {
          "output_type": "stream",
          "text": [
            "Found 1474 images belonging to 2 classes.\n"
          ],
          "name": "stdout"
        }
      ]
    },
    {
      "cell_type": "code",
      "metadata": {
        "id": "ZC2ThCc3kS6s",
        "colab_type": "code",
        "outputId": "128f8aa8-a843-4be9-cfd5-9c210568ef1a",
        "colab": {
          "base_uri": "https://localhost:8080/",
          "height": 292
        }
      },
      "source": [
        "classifier.fit_generator(training_set,\n",
        "                         steps_per_epoch = 8000,\n",
        "                         epochs = 7,\n",
        "                         validation_data = test_set,\n",
        "                         validation_steps = 2000)"
      ],
      "execution_count": 20,
      "outputs": [
        {
          "output_type": "stream",
          "text": [
            "Epoch 1/7\n",
            "8000/8000 [==============================] - 4860s 608ms/step - loss: 0.4373 - accuracy: 0.7909 - val_loss: 0.5520 - val_accuracy: 0.7978\n",
            "Epoch 2/7\n",
            "8000/8000 [==============================] - 2512s 314ms/step - loss: 0.2461 - accuracy: 0.8971 - val_loss: 0.4998 - val_accuracy: 0.7720\n",
            "Epoch 3/7\n",
            "8000/8000 [==============================] - 2527s 316ms/step - loss: 0.1482 - accuracy: 0.9416 - val_loss: 0.8649 - val_accuracy: 0.7801\n",
            "Epoch 4/7\n",
            "8000/8000 [==============================] - 2533s 317ms/step - loss: 0.1015 - accuracy: 0.9622 - val_loss: 0.9286 - val_accuracy: 0.7817\n",
            "Epoch 5/7\n",
            "8000/8000 [==============================] - 2513s 314ms/step - loss: 0.0769 - accuracy: 0.9722 - val_loss: 0.6978 - val_accuracy: 0.7869\n",
            "Epoch 6/7\n",
            "8000/8000 [==============================] - 2507s 313ms/step - loss: 0.0637 - accuracy: 0.9771 - val_loss: 1.3800 - val_accuracy: 0.7852\n",
            "Epoch 7/7\n",
            "8000/8000 [==============================] - 2508s 314ms/step - loss: 0.0541 - accuracy: 0.9812 - val_loss: 1.8683 - val_accuracy: 0.7928\n"
          ],
          "name": "stdout"
        },
        {
          "output_type": "execute_result",
          "data": {
            "text/plain": [
              "<keras.callbacks.callbacks.History at 0x7f5d4b46f9e8>"
            ]
          },
          "metadata": {
            "tags": []
          },
          "execution_count": 20
        }
      ]
    },
    {
      "cell_type": "code",
      "metadata": {
        "id": "0Y_mh_knkY_A",
        "colab_type": "code",
        "colab": {}
      },
      "source": [
        "# Part 3 - Making new predictions\n",
        "\n",
        "import numpy as np\n",
        "from keras.preprocessing import image\n",
        "test_image = image.load_img('/content/drive/My Drive/Data_Science_Drive/Convolutional_Neural_Networks/dataset/single_prediction/cat_or_dog_1.jpg', target_size = (64, 64))\n",
        "test_image = image.img_to_array(test_image)\n",
        "test_image = np.expand_dims(test_image, axis = 0)\n",
        "result = classifier.predict(test_image)\n",
        "training_set.class_indices\n",
        "if result[0][0] == 1:\n",
        "    prediction = 'dog'\n",
        "else:\n",
        "    prediction = 'cat'"
      ],
      "execution_count": 0,
      "outputs": []
    },
    {
      "cell_type": "code",
      "metadata": {
        "id": "OzjXcc-D4Grj",
        "colab_type": "code",
        "colab": {}
      },
      "source": [
        "#Python pickle module is used for serializing and de-serializing a Python object structure to byte code,byte code to object\n",
        "import pickle\n",
        "# saveig the model in to the local file system\n",
        "filename = 'CNN_image _classifier_finalized_model.pickle'\n",
        "pickle.dump(classifier,open(filename,'wb'))   # wb ==> write binary format\n"
      ],
      "execution_count": 0,
      "outputs": []
    },
    {
      "cell_type": "code",
      "metadata": {
        "id": "2APZkqzA4H4X",
        "colab_type": "code",
        "colab": {}
      },
      "source": [
        "loaded_model = pickle.load(open(filename,'rb'))  # rb ==> read binary format\n"
      ],
      "execution_count": 0,
      "outputs": []
    },
    {
      "cell_type": "code",
      "metadata": {
        "colab_type": "code",
        "id": "-P4zBJkh2xvY",
        "colab": {
          "base_uri": "https://localhost:8080/",
          "height": 34
        },
        "outputId": "98eae730-68e4-453f-d53a-3328386d1731"
      },
      "source": [
        "# Part 3 - Making new predictions\n",
        "\n",
        "import numpy as np\n",
        "from keras.preprocessing import image\n",
        "test_image = image.load_img('/content/drive/My Drive/Data_Science_Drive/Convolutional_Neural_Networks/dataset/single_prediction/cat_or_dog_1.jpg', target_size = (64, 64))\n",
        "test_image = image.img_to_array(test_image)\n",
        "test_image = np.expand_dims(test_image, axis = 0)\n",
        "result = loaded_model.predict(test_image)\n",
        "training_set.class_indices\n",
        "if result[0][0] == 1:\n",
        "    print('Dog image ')\n",
        "else:\n",
        "    print('Cat image')\n",
        "\n",
        "#result"
      ],
      "execution_count": 43,
      "outputs": [
        {
          "output_type": "stream",
          "text": [
            "Dog image \n"
          ],
          "name": "stdout"
        }
      ]
    },
    {
      "cell_type": "code",
      "metadata": {
        "id": "qc7Hqj803D3d",
        "colab_type": "code",
        "colab": {}
      },
      "source": [
        ""
      ],
      "execution_count": 0,
      "outputs": []
    }
  ]
}